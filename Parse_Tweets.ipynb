{
 "cells": [
  {
   "cell_type": "code",
   "execution_count": null,
   "metadata": {},
   "outputs": [],
   "source": [
    "%pip install chardet"
   ]
  },
  {
   "cell_type": "code",
   "execution_count": 9,
   "metadata": {},
   "outputs": [],
   "source": [
    "import chardet\n",
    "\n",
    "with open(\"../JonoBot/.venv/tweets.js\", \"rb\") as f:\n",
    "    data = f.read()\n",
    "\n",
    "encoding = chardet.detect(data).get(\"encoding\")\n",
    "\n",
    "with open(\"../JonoBot/.venv/tweets.js\", \"r\", encoding=encoding) as f:\n",
    "    lines = f.readlines()\n",
    "\n",
    "tweets = []\n",
    "\n",
    "for data in lines:\n",
    "    if (data.find(\"full_text\")!=-1):\n",
    "        data = data.replace(\" : \", \"\")\n",
    "        data = data.replace(\"full_text\", \"\")\n",
    "        data = data.replace('\"', \"\")\n",
    "        data = data.strip()\n",
    "        tweets.append(data)"
   ]
  },
  {
   "cell_type": "code",
   "execution_count": 10,
   "metadata": {},
   "outputs": [],
   "source": [
    "import json\n",
    "\n",
    "training_data = []\n",
    "\n",
    "for tweet in tweets:\n",
    "  line = {\"input\": tweet}\n",
    "  training_data.append(json.dumps(line))\n",
    "  training_data.append(\"\\n\")\n",
    "\n",
    "with open(\"training_data_frow_tweets.jsonl\", \"w\") as f:\n",
    "  f.writelines(training_data)"
   ]
  }
 ],
 "metadata": {
  "kernelspec": {
   "display_name": ".venv",
   "language": "python",
   "name": "python3"
  },
  "language_info": {
   "codemirror_mode": {
    "name": "ipython",
    "version": 3
   },
   "file_extension": ".py",
   "mimetype": "text/x-python",
   "name": "python",
   "nbconvert_exporter": "python",
   "pygments_lexer": "ipython3",
   "version": "3.9.13"
  }
 },
 "nbformat": 4,
 "nbformat_minor": 2
}
