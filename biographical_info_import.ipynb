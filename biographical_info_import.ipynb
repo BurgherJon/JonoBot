{
 "cells": [
  {
   "cell_type": "code",
   "execution_count": null,
   "metadata": {},
   "outputs": [],
   "source": []
  },
  {
   "cell_type": "code",
   "execution_count": null,
   "metadata": {},
   "outputs": [],
   "source": [
    "import json\n",
    "\n",
    "from apiclient import discovery\n",
    "from httplib2 import Http\n",
    "from oauth2client import client, file, tools\n",
    "\n",
    "# Set doc ID, as found at `https://docs.google.com/document/d/YOUR_DOC_ID/edit`\n",
    "DOCUMENT_ID = \"YOUR_DOC_ID\"\n",
    "\n",
    "# Set the scopes and discovery info\n",
    "SCOPES = \"https://www.googleapis.com/auth/documents.readonly\"\n",
    "DISCOVERY_DOC = \"https://docs.googleapis.com/$discovery/rest?version=v1\"\n",
    "\n",
    "# Initialize credentials and instantiate Docs API service\n",
    "store = file.Storage(\"token.json\")\n",
    "creds = store.get()\n",
    "if not creds or creds.invalid:\n",
    "  flow = client.flow_from_clientsecrets(\"credentials.json\", SCOPES)\n",
    "  creds = tools.run_flow(flow, store)\n",
    "service = discovery.build(\n",
    "    \"docs\",\n",
    "    \"v1\",\n",
    "    http=creds.authorize(Http()),\n",
    "    discoveryServiceUrl=DISCOVERY_DOC,\n",
    ")\n",
    "\n",
    "# Do a document \"get\" request and print the results as formatted JSON\n",
    "result = service.documents().get(documentId=DOCUMENT_ID).execute()\n",
    "print(json.dumps(result, indent=4, sort_keys=True))"
   ]
  }
 ],
 "metadata": {
  "language_info": {
   "name": "python"
  }
 },
 "nbformat": 4,
 "nbformat_minor": 2
}
